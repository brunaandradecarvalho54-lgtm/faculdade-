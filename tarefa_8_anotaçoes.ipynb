{
  "nbformat": 4,
  "nbformat_minor": 0,
  "metadata": {
    "colab": {
      "provenance": [],
      "authorship_tag": "ABX9TyOd8+zHs8Bis8O4hverPWoK",
      "include_colab_link": true
    },
    "kernelspec": {
      "name": "python3",
      "display_name": "Python 3"
    },
    "language_info": {
      "name": "python"
    }
  },
  "cells": [
    {
      "cell_type": "markdown",
      "metadata": {
        "id": "view-in-github",
        "colab_type": "text"
      },
      "source": [
        "<a href=\"https://colab.research.google.com/github/brunaandradecarvalho54-lgtm/faculdade-/blob/main/tarefa_8_anota%C3%A7oes.ipynb\" target=\"_parent\"><img src=\"https://colab.research.google.com/assets/colab-badge.svg\" alt=\"Open In Colab\"/></a>"
      ]
    },
    {
      "cell_type": "code",
      "execution_count": 21,
      "metadata": {
        "colab": {
          "base_uri": "https://localhost:8080/"
        },
        "id": "u4ylsTMlss6i",
        "outputId": "7430fb86-fe45-4f97-fc53-1fa832f69331"
      },
      "outputs": [
        {
          "output_type": "stream",
          "name": "stdout",
          "text": [
            "\n",
            "Bem vindo(a) ao programa de funções com lista\n",
            "\n",
            "digite a quantidade de numeros 6\n",
            "digite o numero: 11\n",
            "digite o numero: 12\n",
            "digite o numero: 13\n",
            "digite o numero: 14\n",
            "digite o numero: 15\n",
            "digite o numero: 16\n",
            "\n",
            "lista digitada é:  [11, 12, 13, 14, 15, 16]\n",
            "\n",
            "soma dos numeros na lista é:  81\n",
            "\n",
            "quantidade de numeros pares na lista é:  3\n",
            "\n",
            "A quanridade de numeros impares na lista é:  3\n"
          ]
        }
      ],
      "source": [
        "print(\"\\nBem vindo(a) ao programa de funções com lista\")\n",
        "\n",
        "n= int(input(\"\\ndigite a quantidade de numeros \"))#inicializa pedindo quantos numeros a lista deve ter\n",
        "\n",
        "listaNum=[] #adiciona uma lista vazia - é aqui que os numeros iriam ser iniciados\n",
        "for i in range (n): #cria o loop para pedir ao usuario os numeros a serem armazenados na lista. Ele roda ate que a quantidade solicitada em n seja atendida\n",
        "  num = int(input(\"digite o numero: \"))\n",
        "  listaNum.append(num) #função que amarzena os numeros do loop na lista\n",
        "print(\"\\nlista digitada é: \", listaNum)\n",
        "\n",
        "def somatoria(listaNum): #cria-se a função para fazer a somatoria. Depos so precisamos chamar esta função sem precisar realizar toda os passoa a baixo\n",
        "  soma = 0 # inicializa soma\n",
        "  for num in listaNum: #cria o lopp para realizar a soma de cada numero na lista.Aqui ele vai dar a volta é fazer a soma e guardar o valor no num, por isso num in range para cada elemento dentro da lista armazena na variavel num e execute o bloco abaixo\n",
        "      soma += num #por isso nossa soma é com num e nao com listaNum porque os valores estao aramazenados nesta variavel e é atraves dela que ira realizar a soma\n",
        "  return soma #retornamos ao valor para variavel onde uardamos ela para usarmos depois, ele retorna o valor para quem chamou a funçao\n",
        "print(\"\\nsoma dos numeros na lista é: \", somatoria(listaNum))\n",
        "# os debaixo é mesma coisa do DEF SOMATORIO, criamos um bloco onde tudo que precismos usar mas para frente e quando necessitamos chamamos esta função\n",
        "def pares(listaNum):\n",
        "  qtd = 0\n",
        "  for num in listaNum:\n",
        "    if num % 2==0:\n",
        "      qtd += 1\n",
        "  return qtd\n",
        "print(\"\\nquantidade de numeros pares na lista é: \", pares(listaNum))\n",
        "\n",
        "def impares(listaNum):\n",
        "  qtd = 0\n",
        "  for num in listaNum:\n",
        "    if num % 2!=0:\n",
        "      qtd += 1\n",
        "  return qtd\n",
        "print(\"\\nA quanridade de numeros impares na lista é: \", impares(listaNum))"
      ]
    }
  ]
}